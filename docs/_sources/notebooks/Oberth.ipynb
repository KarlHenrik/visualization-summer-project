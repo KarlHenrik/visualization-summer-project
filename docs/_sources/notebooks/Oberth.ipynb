{
 "cells": [
  {
   "cell_type": "markdown",
   "id": "2d122690-0859-498f-991c-dabab64780f4",
   "metadata": {},
   "source": [
    "# Oberth"
   ]
  },
  {
   "cell_type": "markdown",
   "id": "6b5da379-06c1-4d27-ad95-ea291d957b23",
   "metadata": {},
   "source": [
    "## Learning outcome\n",
    "- Mechanical energy and conservation laws \n",
    "- Relate velocity to energy\n",
    "- Newtonian motion and forces"
   ]
  },
  {
   "cell_type": "markdown",
   "id": "3a21e9f9-a81f-4fc1-a196-e07862b665df",
   "metadata": {},
   "source": [
    "## Introduction\n",
    "\n",
    "In this example, we are going to look at the case where a spaceship enters a planet's gravitational well. Largly based on  the laws of energy conservation in addition to simple astoronomical and Newtonian consideratons, we will investigate how the spaceship most sparingly can apply short impulsive bursts of its propelant to increase mechanical energy and escape orbit. "
   ]
  },
  {
   "cell_type": "markdown",
   "id": "063ab00e-2b87-456e-8348-8ecfb13775fb",
   "metadata": {
    "jp-MarkdownHeadingCollapsed": true,
    "tags": []
   },
   "source": [
    "## Theory\n",
    "\n",
    "### Fundamentals\n",
    "The gravitiational force between the masses of a spaceship m, and a planet M, where M >> m, is given by the following.\n",
    "\n",
    "$$\n",
    "\\begin{align}\n",
    "F = G\\frac{mM}{r^2}\n",
    "\\end{align}\n",
    "$$\n",
    "\n",
    "From this expression, we can derive the spaceship's mechanical energy by the sum of its potential (U) and kinetic (U) component. We get: \n",
    "\n",
    "$$\n",
    "\\begin{align}\n",
    "E = -G\\frac{Mm}{r} + \\frac{1}{2}mv^2\n",
    "\\end{align}\n",
    "$$\n",
    "\n",
    "In the spaceship's path, there are two locations of particular interest, the apoasis (Point A) and the periapsis (point P). The latter is the point in which the spaceship is closest to the planet during orbit, and likewise the furthest point is called the apoasis. From Kepler's second law and additonaly the law of conservation for angular momentum, the velocity of the spacehip will be inversly proportional with the distance between the spaceship and the planet. This imply that the spaceship travels faster near the periapsis, and slower around the apoasis. The mean orbital velocity can be approximated to\n",
    "$$\n",
    "v_0 = \\sqrt{\\frac{GM}{r}}\n",
    "$$\n",
    ", where G is the gravitational parameter and M is the mass of the planet. Remember that this only holds true when M >> m.\n",
    "\n",
    "### Oberth effect\n",
    "\n",
    "#### Principle\n",
    "The Oberth effect is a method used in spacetravel to boost the speed of a rocket by falling into a gravitatinal well and utilizing short impulisive burns of fuel. Given that the velocity of the rocket increase by a constant increament, the Oberth effect states that performing an impulsive burn near the periapsis has the biggest impact on the rocket's boost in velocity and hence also its mechanical energy. One way of explaining this phenonomen is to consider the kinetic energy of the spaceship at point A and P. Lets say that the propelent accelerate the rocket with velocity $v_R$ with an increament of $\\delta v$, the new velocity after the impuslive burn would then be $v + \\delta v$. The change in kinetic energy during the reaction is:  \n",
    "\n",
    "$$\n",
    "\\begin{align}\n",
    "\\Delta K_R = 1/2 m(v_R + \\delta v)^2 - 1/2 mv_R^2\n",
    "\\end{align}\n",
    "$$.\n",
    "\n",
    "Parallel, the change in the kinetic energy of the exhaust is equal to\n",
    "\n",
    "$$\n",
    "\\begin{align}\n",
    "\\Delta K_{ex} = 1/2 m_{ex}(v_R - v_{ex})^2 - 1/2m_{ex}v_{ex}^2\n",
    "\\end{align}\n",
    "$$\n",
    "\n",
    ", assuming the exhaust velocity is constant and in the opposite direction.\n",
    "\n",
    "From this argument, its clear that the rocket sees an increase in kinetic energy when traversing at higher velocity, but why is that? An eqvivalent way of looking at this is to evaluate the work being done. Seeing that the work done by the propelant is equal to \n",
    "\n",
    "$$\n",
    "W = F *\\delta x = F \\cdot v \\delta t\n",
    "$$\n",
    "\n",
    ", the propelent can do more work on the rocket by applying the same force, beacosue near the periospis the rocket covers a greater distance per unit time than elsewhere in the orbit. And this work is equal to the rockets mechanical energy whitch in term is equal to the difference in kinetic energy from velocity $v  -> v + \\delta v$.    \n",
    "\n",
    "\n",
    "#### Mathematical description\n",
    "By writing out the difference in kinetic energy for the rocket, and exhaust seperatly, we get  \n",
    "\n",
    "$$\n",
    "\\begin{align}\n",
    "\\Delta K_R &= 1/2 M_R v^2 + vM_R \\cdot \\Delta v \\\\\n",
    "\\Delta K_{ex} &= 1/2m_{ex}v_{ex}^2 -vm_{ex}v_{ex} \n",
    "\\end{align}\n",
    "$$\n",
    "\n",
    "And finally taking the sum of the two components to calcualte the total difference in kinetic energy for the entire system. From the law of momentum conservation $m_{ex}v_{ex} = M_R \\Delta v$, the sum becomes\n",
    "\n",
    "\n",
    "$$\n",
    "\\begin{align}\n",
    "\\Delta K = \\Delta K_R + \\Delta K_{ex} = 1/2 M_R \\Delta v^2 + 1/2m_{ex} v_{ex}^2 = \\Delta E_{chem}\n",
    "\\end{align}\n",
    "$$\n",
    "\n",
    ", where $\\Delta E_{chem}$ is kinetic energy created from the propelent's chemical energy. From this we can read that as the velocity of the rocket increases, a larger portion of the propelents mechanical energy converts to kinetic energy of the rocket, rather than the exhaust. "
   ]
  },
  {
   "cell_type": "markdown",
   "id": "8abc5b01-8211-4906-acc0-3d479eab7e95",
   "metadata": {
    "jp-MarkdownHeadingCollapsed": true,
    "tags": []
   },
   "source": [
    "## Excercises\n",
    "1. At what velocity does all of $\\Delta E_{chem} $ convert to $\\Delta K_R$?\n",
    "2. What is the formula for potential energy of the rocket?\n",
    "3. Using the definition of mechanical energy in a gravitational well, and the law of conservation of mechanical energy, calculate the rocket velocity after an impulsive burn at the perioapsis.\n",
    "4. What is the velocity after an impulsive burn at the apoasis?\n",
    "5. At what point in orbit is it most benefital for the rocket's mechanical energy to do an impulsive burn?  "
   ]
  },
  {
   "cell_type": "markdown",
   "id": "27220e0c-be01-4c48-bbe0-c038647ba5d3",
   "metadata": {},
   "source": [
    "## Refrences"
   ]
  },
  {
   "cell_type": "code",
   "execution_count": null,
   "id": "0520cfb1-53f0-460c-8bb6-d86d2742b879",
   "metadata": {},
   "outputs": [],
   "source": []
  }
 ],
 "metadata": {
  "kernelspec": {
   "display_name": "Python 3 (ipykernel)",
   "language": "python",
   "name": "python3"
  },
  "language_info": {
   "codemirror_mode": {
    "name": "ipython",
    "version": 3
   },
   "file_extension": ".py",
   "mimetype": "text/x-python",
   "name": "python",
   "nbconvert_exporter": "python",
   "pygments_lexer": "ipython3",
   "version": "3.8.10"
  }
 },
 "nbformat": 4,
 "nbformat_minor": 5
}
