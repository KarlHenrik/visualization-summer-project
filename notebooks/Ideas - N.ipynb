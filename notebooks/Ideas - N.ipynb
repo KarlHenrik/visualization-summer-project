{
 "cells": [
  {
   "cell_type": "markdown",
   "metadata": {},
   "source": [
    "# Getting started with the summer project"
   ]
  },
  {
   "cell_type": "markdown",
   "metadata": {},
   "source": [
    "## List of ideas for visualisations for physics:"
   ]
  },
  {
   "cell_type": "markdown",
   "metadata": {},
   "source": [
    "* Elasticity of cells: exploring Young's modulus on living cells \n",
    "    initial ideas:\n",
    "    * make an interactive model of the cells: whether it be type of tissue or single cell (whichever is easiest)\n",
    "    * mathematically implement Young's modulus\n",
    "    * functionality of changing the variables that go into elasticity \n",
    "    * have a section of why this is important and its uses (diagnostical uses are pretty interesting) \n",
    "    * look into other physical properties that can be added to it? impedance? applying a current? placing in a magnetic field? \n",
    "    * how do those affect that elasticity, if at all? would this be interesting? why?                                           \n",
    "    \n",
    "    _Modified idea/main focus of the project:_\n",
    "    * modelling the elasticity of cells: can implement both dynamic and static Young's modulus \n",
    "    * static Young's modulus of cells has been researched on quite a bit\n",
    "    * dynamic Young's modulus could be fun to look into and implement mathematically (thinking about speed of loud in cells and how to model that)\n",
    "    \n",
    "    _*Why do I want to do this?_\n",
    "    * mechanical properties of cells are insanely cool to look into\n",
    "    * modelling this would be fun as doing this in a lab is tedious and hard (instrumentation and methods are limiting factors)\n",
    "    * researching stuff on nanoscale is very interesting at the moment, especially with focus on biophysics\n",
    "    * can offer new perspective on \n",
    "    \n",
    "\n",
    "\n",
    "* Magnets in MRI-scans:\n",
    "    * sizes of magnets and how that influences the generated field \n",
    "    * how does the field affect the H-molecules in the body (visualise this alignment) \n",
    "    * even cooler: could we every try and use MRI-concept on other elements in our body, and not just H? (a bit ambitious but you never know)\n",
    "    * spin and importance of spin in MRIs - implementing quantum mechanics\n",
    "* Viruses: their job and how it is executed :\n",
    "    * mutations would be very interesting to look into, could even relate to COVID19 (even though everyone is sick and tired of it)\n",
    "    * how does it break down the body/tissue \n",
    "    * a little abitious and potentially hard to visualise\n",
    "* Chemistry: visualising organic and inorganic chemistry (doesn't really mater):\n",
    "    * degrees of freedom (https://physics.stackexchange.com/questions/361666/how-to-understand-the-concept-of-degree-of-freedom)\n",
    "    * isomers (isometry \n",
    "    * bonding of greater molecules, with focus on rotational and vibrational energies \n",
    "* Mother Earth and its motion: \n",
    "    * complicated motion of Earth around 3 axis: axial precession \n",
    "* Singlet-Triplet stuff from quantum physics \n",
    "    * none of this stuff ever made sense so maybe it would be nice to animate it somehow to offer visual aid\n",
    "    * help understand why these states are more preferable and in which molecules and why "
   ]
  },
  {
   "cell_type": "code",
   "execution_count": null,
   "metadata": {},
   "outputs": [],
   "source": []
  }
 ],
 "metadata": {
  "kernelspec": {
   "display_name": "Python 3",
   "language": "python",
   "name": "python3"
  },
  "language_info": {
   "codemirror_mode": {
    "name": "ipython",
    "version": 3
   },
   "file_extension": ".py",
   "mimetype": "text/x-python",
   "name": "python",
   "nbconvert_exporter": "python",
   "pygments_lexer": "ipython3",
   "version": "3.7.3"
  }
 },
 "nbformat": 4,
 "nbformat_minor": 2
}
