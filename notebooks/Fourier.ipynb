{
 "cells": [
  {
   "cell_type": "markdown",
   "id": "bcfd4734-acd9-454d-a112-b73bddcb55bf",
   "metadata": {},
   "source": [
    "# Fourier series"
   ]
  },
  {
   "cell_type": "markdown",
   "id": "fa21c876-066c-47de-93d0-b1ea5a8349b7",
   "metadata": {},
   "source": [
    "## Learning outcomes\n",
    "- Explain the concept of Fourier series\n",
    "- Relete the properties of a Fourier series to its many appliations\n",
    "- Visualize a fourier serie of a square wave"
   ]
  },
  {
   "cell_type": "markdown",
   "id": "1200c0b6-a697-4c0e-bf5e-5f61f468f14a",
   "metadata": {
    "tags": []
   },
   "source": [
    "## What is a Fourier series\n",
    "Fourier series was devolped by Joseph Fourier in the early 1800's as a way of simplyfing differential equations. A Fourier seris in general is a method of transforming a periodic function into a sum of sine and cosine functions. A similar methods for non-periodic functions exists and is called a Fourier transform. One of the main motivations for Fourier series and transformations is the fact that these simple trigonometric functions are the eigenfunctions of the Laplacian, which is a very familiar identity in many physical problems. The sum of trigonometric functions can be expressed as bellow. \n",
    "\n",
    "$$\n",
    "f(x) = a_0 + a_1cos(x) + a_2cos(2x) + a_3cos(3x) + ... \\\\\n",
    "        +  b_1sin(x) + b_2sin(2x) + b_3(sin3x) + ...\n",
    "$$\n",
    "\n",
    "Or in a more compact and general form\n",
    "\n",
    "$$\n",
    "f(x) = \\frac{a_0}{2} + \\sum_{k=1}^{\\infty}a_k cos\\frac{2\\pi kx}{T} + \\sum_{k=1}^{\\infty}b_k sin\\frac{2\\pi kx}{T},  \n",
    "$$\n",
    "\n",
    "the, coeficient $a_k$ and $b_k$ are given by \n",
    "\n",
    "$$\n",
    "a_k = \\frac{2}{T} \\int_{0}^{T}f(x)cos\\frac{2\\pi kx}{T}, b_k = \\frac{2}{T} \\int_{0}^{T}f(x)sin\\frac{2\\pi kx}{T}\n",
    "$$\n",
    "\n",
    "In this example we will look at the very simple case of applying a Fourier series on a square wave, as illustrated in fiugre (1). A square wave is a nonsinusidal periodic function that instantaneus goes from a maximum to a minimum value. The wave in this exampple is described as f(x) = 1 when $x\\in [0,1/2]$ and f(x) = -1 when $x\\in[1, 1/2]$. \n",
    "\n",
    "![Square Wave](Images/squareWave.png)\n",
    "\n",
    "> In a period T = 1, calcualte the Fourier series of the square wave f(x). (Hint: Use that the function is odd and symmetric around 0 so that you only have to calculate one of the coefficients.)\n",
    "> \n",
    "> Answer: $f(x) = \\frac{4}{pi} \\sum_{k=1,3,5....}^{\\infty} \\frac{1}{k}sin(2\\pi kx)$"
   ]
  },
  {
   "cell_type": "markdown",
   "id": "cd6a39dd-cecc-4106-8a4e-f57f3cc13d6b",
   "metadata": {},
   "source": [
    "## Animation\n",
    "- Write about the animation, what does it consist of, what does it explain, how should you use it.  \n",
    "\n",
    "    [Insert animation!]"
   ]
  },
  {
   "cell_type": "markdown",
   "id": "c90ef43a-fe6f-4269-bec4-3b404dde130b",
   "metadata": {},
   "source": [
    "## Application\n",
    "- The applications of fourier series is immense in a plertheral of fields, ranging from, nucclear physics, signal processing, other physical problems involving differntial equations, materials science, astrophysics and so on. \n",
    "\n",
    "As stated in the introduction, Joseph Fourier originally devolped the method of Fourier series and transform in order to solve differential equations. To be specific, a particular equation was in focus, namley the heat flux equation\n",
    "\n",
    "$$\n",
    "\\frac{dT}{dt} = -\\alpha \\nabla^2T = 0,\n",
    "$$\n",
    "\n",
    "the laplacian $\\nabla^2$ has the eigenvectors cosine and sine in one dimension, and by employing a Fourier series, Joseph was aple to solve the heat equation. In higher dimensional problems involving the Laplace operator, one must apply a complex derivative of Fourier series called spherrical harmonics. \n",
    "\n",
    "The process of decomposing a functionn into components based on oscillatory properties such as frequencies. The reverese process is called a Fourier synthesis. "
   ]
  },
  {
   "cell_type": "code",
   "execution_count": null,
   "id": "2ba3741e-115e-4fe4-aaed-30986d99ccd4",
   "metadata": {},
   "outputs": [],
   "source": []
  }
 ],
 "metadata": {
  "kernelspec": {
   "display_name": "Python 3 (ipykernel)",
   "language": "python",
   "name": "python3"
  },
  "language_info": {
   "codemirror_mode": {
    "name": "ipython",
    "version": 3
   },
   "file_extension": ".py",
   "mimetype": "text/x-python",
   "name": "python",
   "nbconvert_exporter": "python",
   "pygments_lexer": "ipython3",
   "version": "3.8.10"
  }
 },
 "nbformat": 4,
 "nbformat_minor": 5
}
