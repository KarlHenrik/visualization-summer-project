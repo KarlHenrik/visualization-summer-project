{
 "cells": [
  {
   "cell_type": "markdown",
   "id": "bcfd4734-acd9-454d-a112-b73bddcb55bf",
   "metadata": {},
   "source": [
    "# Fourier series"
   ]
  },
  {
   "cell_type": "markdown",
   "id": "fa21c876-066c-47de-93d0-b1ea5a8349b7",
   "metadata": {},
   "source": [
    "## Learning outcomes\n",
    "- Describe what a fourier series is\n",
    "- Recognize its componets\n",
    "- Explain its application and relevance"
   ]
  },
  {
   "cell_type": "markdown",
   "id": "1200c0b6-a697-4c0e-bf5e-5f61f468f14a",
   "metadata": {
    "tags": []
   },
   "source": [
    "## Introduction\n",
    "Fourier series was devolped by Joseph Fourier in the early 1800's as a way of simplyfing differential equations. In short, fourier series allow us to transform generel functions in a interval to a sum of cosine and sine functions with apropriate weights. \n",
    "b\n",
    "$$\n",
    "f(t) = a_0 + a_1cos(t) + a_2cos(2t) + a_3cos(3t) + ... \\\\\n",
    "        +  b_1sin(t) + b_2sin(2t) + b_3(sin3t) + ...\n",
    "$$\n",
    "A fourier analysis is aimed at solving for the weights of the equation, an application of fourier analysis is to unveil the domintating freqencies from a given signal, for instance sound.  \n"
   ]
  },
  {
   "cell_type": "markdown",
   "id": "c90ef43a-fe6f-4269-bec4-3b404dde130b",
   "metadata": {},
   "source": [
    "## Theory\n"
   ]
  },
  {
   "cell_type": "markdown",
   "id": "1e78249a-ade2-407f-9d75-e580c8dba4ba",
   "metadata": {},
   "source": [
    "## Application"
   ]
  },
  {
   "cell_type": "code",
   "execution_count": null,
   "id": "1503e69b-3c8f-44ea-987a-47d5c04cbe2a",
   "metadata": {},
   "outputs": [],
   "source": []
  }
 ],
 "metadata": {
  "kernelspec": {
   "display_name": "Python 3 (ipykernel)",
   "language": "python",
   "name": "python3"
  },
  "language_info": {
   "codemirror_mode": {
    "name": "ipython",
    "version": 3
   },
   "file_extension": ".py",
   "mimetype": "text/x-python",
   "name": "python",
   "nbconvert_exporter": "python",
   "pygments_lexer": "ipython3",
   "version": "3.8.10"
  }
 },
 "nbformat": 4,
 "nbformat_minor": 5
}
