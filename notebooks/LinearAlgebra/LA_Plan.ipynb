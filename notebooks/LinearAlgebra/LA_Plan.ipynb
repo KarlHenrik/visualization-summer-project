{
 "cells": [
  {
   "cell_type": "markdown",
   "metadata": {},
   "source": [
    "# What is an invertible matrix?"
   ]
  },
  {
   "cell_type": "markdown",
   "metadata": {},
   "source": [
    "## The invertible matrix theorem ([From wikipedia](https://en.wikipedia.org/wiki/Invertible_matrix))\n",
    "\n",
    "Let **A** be a square *n* by *n* matrix over a [field](https://en.wikipedia.org/wiki/Field_(mathematics)) *K* (e.g., the field **R** of real numbers). The following statements are equivalent (i.e., they are either all true or all false for any given matrix):[[4]](https://en.wikipedia.org/wiki/Invertible_matrix#cite_note-4)\n",
    "\n",
    "- **A** is invertible, that is, **A** has an inverse, is nonsingular, or is nondegenerate.\n",
    "- **A** is [row-equivalent](https://en.wikipedia.org/wiki/Row_equivalence) to the *n*-by-*n* [identity matrix](https://en.wikipedia.org/wiki/Identity_matrix \"Identity matrix\") **I**$_n$.\n",
    "- **A** is [column-equivalent](https://en.wikipedia.org/wiki/Row_equivalence \"Row equivalence\") to the *n*-by-*n* [identity matrix](https://en.wikipedia.org/wiki/Identity_matrix \"Identity matrix\") **I**$_n$.\n",
    "- **A** has *n* [pivot positions](https://en.wikipedia.org/wiki/Pivot_position \"Inverse element\").\n",
    "- [det](https://en.wikipedia.org/wiki/Determinant \"Determinant\") **A** ≠ 0. In general, a square matrix over a [commutative ring](https://en.wikipedia.org/wiki/Commutative_ring \"Commutative ring\") is invertible if and only if its [determinant](https://en.wikipedia.org/wiki/Determinant \"Determinant\") is a [unit](https://en.wikipedia.org/wiki/Unit_(ring_theory) \"Unit (ring theory)\") in that ring.\n",
    "- **A** has full rank; that is, [rank](https://en.wikipedia.org/wiki/Rank_(linear_algebra) \"Rank (linear algebra)\") **A** = *n*.\n",
    "- The equation **Ax** = **0** has only the trivial solution **x** = **0**.\n",
    "- The [kernel](https://en.wikipedia.org/wiki/Kernel_(linear_algebra) \"Kernel (linear algebra)\") of **A** is trivial, that is, it contains only the null vector as an element, ker(**A**) = {**0**}.\n",
    "- The equation **Ax** = **b** has exactly one solution for each **b** in *K$^n$*.\n",
    "- The columns of **A** are [linearly independent](https://en.wikipedia.org/wiki/Linear_independence \"Linear independence\").\n",
    "- The columns of **A** [span](https://en.wikipedia.org/wiki/Linear_span \"Linear span\") *K$^n$*.\n",
    "- [Col](https://en.wikipedia.org/wiki/Row_and_column_spaces \"Row and column spaces\") **A** = *K$^n$*.\n",
    "- The columns of **A** form a [basis](https://en.wikipedia.org/wiki/Basis_of_a_vector_space \"Basis of a vector space\") of *K$^n$*.\n",
    "- The linear transformation mapping **x** to **Ax** is a [bijection](https://en.wikipedia.org/wiki/Bijection \"Bijection\") from *K$^n$* to *K$^n$*.\n",
    "- There is an *n*-by-*n* matrix **B** such that **AB** = **I**$_n$ = **BA**.\n",
    "- The [transpose](https://en.wikipedia.org/wiki/Transpose \"Transpose\") **A**$^T$ is an invertible matrix (hence rows of **A** are [linearly independent](https://en.wikipedia.org/wiki/Linear_independence), span *K$^n$*, and form a [basis](https://en.wikipedia.org/wiki/Basis_of_a_vector_space \"Basis of a vector space\") of *K$^n$*).\n",
    "- The number 0 is not an [eigenvalue](https://en.wikipedia.org/wiki/Eigenvalue \"Eigenvalue\") of **A**.\n",
    "- The matrix **A** can be expressed as a finite product of [elementary matrices](https://en.wikipedia.org/wiki/Elementary_matrix \"Elementary matrix\").\n",
    "- The matrix **A** has a left inverse (that is, there exists a **B** such that **BA** = **I**) *or* a right inverse (that is, there exists a **C** such that **AC** = **I**), in which case both left and right inverses exist and **B** = **C** = **A**$^{-1}$."
   ]
  },
  {
   "cell_type": "markdown",
   "metadata": {},
   "source": [
    "## The Plan"
   ]
  },
  {
   "cell_type": "markdown",
   "metadata": {},
   "source": [
    "Remembering all of these things is difficult, so let's use some visualizations of 2x2 and 3x3 linear transformations in 2D and 3D to get some intuition.\n",
    "\n",
    "Why is the kernel trivial?\n",
    "\n",
    "Why is the determinant zero?\n",
    "\n",
    "Why is the transpose invertible?"
   ]
  },
  {
   "cell_type": "code",
   "execution_count": null,
   "metadata": {},
   "outputs": [],
   "source": []
  }
 ],
 "metadata": {
  "kernelspec": {
   "display_name": "Python 3",
   "language": "python",
   "name": "python3"
  },
  "language_info": {
   "codemirror_mode": {
    "name": "ipython",
    "version": 3
   },
   "file_extension": ".py",
   "mimetype": "text/x-python",
   "name": "python",
   "nbconvert_exporter": "python",
   "pygments_lexer": "ipython3",
   "version": "3.8.5"
  }
 },
 "nbformat": 4,
 "nbformat_minor": 4
}
