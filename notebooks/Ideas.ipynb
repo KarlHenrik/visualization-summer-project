{
 "cells": [
  {
   "cell_type": "markdown",
   "metadata": {},
   "source": [
    "# Ideas"
   ]
  },
  {
   "cell_type": "markdown",
   "metadata": {},
   "source": [
    "- Linear algebra 3b1b style\n",
    "- RBM as blinking lights\n",
    "- Looking at some differential equations. See how initial conditions selects a solution\n",
    "- Comparing integrators (better with no black box). combine it with python\n",
    "- Solving a differential equation with jacobi iterations\n",
    "- Fouriertransformasjon\n",
    "- Generate brown noise using a random walker. Cumsum of iid normally dist numbers\n",
    "- Bisection method illustration. Skydiver exercise: Effects on the fall from doubling the mass of the skydiver and doubling the mass of the earth.\n",
    "- Vector fields\n",
    "    - Divergence and curl of a vector field!\n",
    "    - Integrals on a vector field\n",
    "    - Conservative fields. Interactive line integrals\n",
    "    - Spin and movement of a point interactive demo"
   ]
  },
  {
   "cell_type": "markdown",
   "metadata": {},
   "source": [
    "## Rocket Physics\n",
    "\n",
    "- Delta v, important terms\n",
    "- Escape velocity, angle not important\n",
    "- Rocket equation, fuel is heavy\n",
    "- Max Q, crashing into air too hard\n",
    "- Gravity loss, the cost of flying against a strong gravitational force\n",
    "- Oberth effect, better to boost when going fast in an elliptical orbit\n",
    "- Gravity assist, getting dragged along by a heavy object. Voyager sim?\n",
    "\n",
    "\n",
    "### Extras:\n",
    "- Angle of attack, bouncing off air\n",
    "- Stability, why fins increase stability"
   ]
  },
  {
   "cell_type": "code",
   "execution_count": null,
   "metadata": {},
   "outputs": [],
   "source": []
  }
 ],
 "metadata": {
  "kernelspec": {
   "display_name": "Python 3",
   "language": "python",
   "name": "python3"
  },
  "language_info": {
   "codemirror_mode": {
    "name": "ipython",
    "version": 3
   },
   "file_extension": ".py",
   "mimetype": "text/x-python",
   "name": "python",
   "nbconvert_exporter": "python",
   "pygments_lexer": "ipython3",
   "version": "3.8.5"
  }
 },
 "nbformat": 4,
 "nbformat_minor": 4
}
