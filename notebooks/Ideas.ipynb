{
 "cells": [
  {
   "cell_type": "markdown",
   "metadata": {},
   "source": [
    "# Ideas"
   ]
  },
  {
   "cell_type": "markdown",
   "metadata": {},
   "source": [
    "- Linear algebra 3b1b style\n",
    "- RBM as blinking lights\n",
    "- Looking at some differential equations. See how initial conditions selects a solution\n",
    "- Comparing integrators (better with no black box). Just combine it with python, idiot\n",
    "- Solving a differential equation with jacobi iterations\n",
    "- Fouriertransformasjon\n",
    "- Generate brown noise using a random walker. Cumsum of iid normally dist numbers\n",
    "- Bisection method illustration. Skydiver exercise: Effects on the fall from doubling the mass of the skydiver and doubling the mass of the earth.\n",
    "- Vector fields\n",
    "    - Divergence and curl of a vector field!\n",
    "    - Integrals on a vector field\n",
    "    - Dra musa gjennom eit vektorfelt og regn ut arbeid. Forskjell på konservative og ikkje-konservative felt\n",
    "    - Flytt en pinne gjennom eit vektorfelt og se om den roterer\n",
    "- Rockets\n",
    "    - Gravity slingshot\n",
    "    - Optimal rocket velocity\n",
    "    - Rocket equation\n",
    "    - Interactive about how you always escape a gravity well if you have the escape velocity, regardless of the direction you're moving. Make them argue why, and then go into why rockets are flown into space at an angle"
   ]
  },
  {
   "cell_type": "code",
   "execution_count": null,
   "metadata": {},
   "outputs": [],
   "source": []
  }
 ],
 "metadata": {
  "kernelspec": {
   "display_name": "Python 3",
   "language": "python",
   "name": "python3"
  },
  "language_info": {
   "codemirror_mode": {
    "name": "ipython",
    "version": 3
   },
   "file_extension": ".py",
   "mimetype": "text/x-python",
   "name": "python",
   "nbconvert_exporter": "python",
   "pygments_lexer": "ipython3",
   "version": "3.8.5"
  }
 },
 "nbformat": 4,
 "nbformat_minor": 4
}
