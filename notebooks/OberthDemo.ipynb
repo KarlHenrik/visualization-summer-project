{
 "cells": [
  {
   "cell_type": "markdown",
   "metadata": {},
   "source": [
    "# The Oberth Effect"
   ]
  },
  {
   "cell_type": "markdown",
   "metadata": {},
   "source": [
    "<article id=\"oberthdemo\"></article>"
   ]
  },
  {
   "cell_type": "markdown",
   "metadata": {},
   "source": [
    "## Exercises:\n",
    "\n",
    "**a)** Where in your orbit should you burn your fuel to gain the most energy?\n",
    "\n",
    "**b)** Explain the Oberth effect using the definition of work: Force times distance.\n",
    "\n",
    "**c)** Is there any significance to reaching positive mechanical energy when the potential energy is defined as being zero when infinitely far away?\n",
    "\n",
    "**d)** Explain the Oberth effect using the energy before and after an elastic collision.\n",
    "\n",
    "**e)** Where does the \"free\" energy come from? How is energy still conserved even though you can gain a different amount depending on where you use your fuel?"
   ]
  },
  {
   "cell_type": "code",
   "execution_count": null,
   "metadata": {},
   "outputs": [],
   "source": []
  }
 ],
 "metadata": {
  "kernelspec": {
   "display_name": "Python 3 (ipykernel)",
   "language": "python",
   "name": "python3"
  },
  "language_info": {
   "codemirror_mode": {
    "name": "ipython",
    "version": 3
   },
   "file_extension": ".py",
   "mimetype": "text/x-python",
   "name": "python",
   "nbconvert_exporter": "python",
   "pygments_lexer": "ipython3",
   "version": "3.8.8"
  }
 },
 "nbformat": 4,
 "nbformat_minor": 4
}
