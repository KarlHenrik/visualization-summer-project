{
 "cells": [
  {
   "cell_type": "markdown",
   "metadata": {},
   "source": [
    "# Exploring elasticity of biological cells using Young's modulus "
   ]
  },
  {
   "cell_type": "markdown",
   "metadata": {},
   "source": [
    "## Introduction to the topic \n",
    "Mechanical properties of biological systems are of great interest to us due to their role in fundamental biological processes and diseases [1]. When talking about mechanical properties, we usually mean physical properties of a material when an (external) force is applied to it. How materials react to such physical changes can tell us a lot about its composition and ability to handle stress, and the degree to which that is possible.  \n",
    "Study of elasticity and how materials react to stress is of great importance for engineering, as this property is crucial when choosing the right materials for the right purpose. In context of biophysics, one of the important mechanical properties of biological systems is elasticity of cells. Elasticity of cells has become _\"a reliable indicator of cell transformation into cancerous of metastatic cells\"_. Other mechanical properties of cells have also been used to study viruses, as they are able to dynamically change their mechanical properties to withstand external forces, which is incredibly relevant for us to study given the current global situation with the COVID-19 pandemic. \n"
   ]
  },
  {
   "cell_type": "markdown",
   "metadata": {},
   "source": [
    "### Why do we care about this to the point where we want to simulate it?\n",
    "- a lot of morphological changes that viruses undergo are related to their elastic properties, which we know very little of [6]\n",
    "- when the virus and cell interact, most of the deformations occur in the cell, which we can find by looking at the relative ratio of Young's moduli (more about this later)\n",
    "- Values of cell elasticity\n",
    "(the stretchiness of cells) and viscosity (a measure of viscous dissipation) reported in the literature vary considerably even among groups that used the same instruments. One contributor to these variations is often assumed to be differences in cell-culture conditions (subtle differences in temperature, pH, cell passage number, etc.), which prevent direct comparisons among datasets and may have slowed down the translation of cell mechanics instruments for clinical applications [5].\n",
    "\n",
    "These reasons give us an opportunity to study cell mechanics and specifically elasticity of cells numerically, in hopes of potentially eliminating the laboratory issues that different research groups have stumbled upon.  \n",
    "However, numerical analysis is not without its own flaws.  \n",
    "\n",
    "_**Quiding questions**_ :  \n",
    "1. Which potential issues can you identify when it comes to simulating cells numerically? Specifically how we can model cells accurately? Hint: cell structure ...? :)\n",
    "2. What are the pros and cons of simulating cells and manipulations with cells numerically vs. in lab? Bonus points to you if you have had experience with both lab work and computationaln project! ;) \n"
   ]
  },
  {
   "cell_type": "markdown",
   "metadata": {},
   "source": [
    "### How are we going to do this?"
   ]
  },
  {
   "cell_type": "markdown",
   "metadata": {},
   "source": []
  },
  {
   "cell_type": "markdown",
   "metadata": {},
   "source": [
    "## Theory - Elastic Modulus"
   ]
  },
  {
   "cell_type": "markdown",
   "metadata": {},
   "source": [
    "_**could have theory as a chapter, and everything undernearth as subchapters/subsections that students can click themselves through**_."
   ]
  },
  {
   "cell_type": "markdown",
   "metadata": {},
   "source": [
    "In order to measure elasticity, we can use two different methods- static and dynamic. Static method consists of measuring the deformation of a material upon application of a force, and the dynamic method looks into the same type of deformation, but under vibratory conditions [2]. Usually we can expect the elastic moduli measuring using both of those methods to agree with each other, however, this is only valid if we are working with homogenous materials that follow linear elasticity. Linear elasticity assumes that the stress in the material is always proportional with the strain, along with some other predictions [3].  \n"
   ]
  },
  {
   "cell_type": "markdown",
   "metadata": {},
   "source": [
    "_**could this be animated?**_ if you try hard enough it probably can."
   ]
  },
  {
   "cell_type": "markdown",
   "metadata": {},
   "source": [
    "### Static modulus"
   ]
  },
  {
   "cell_type": "markdown",
   "metadata": {},
   "source": [
    "When deforming an object elastically (not permanently) using the static method, we are interested in how we can measure the stress and strain applied to the object. That is how we get different types of elastic modili, as the direction of application of stress and strain can also vary. The three primary types of elastic moduli are [4]:\n",
    "- Young's modulus (E): describes tendency of an object to deform along an axis when opposing forces are applied along that axis (Wikipedia). Ratio of tensile stress to tensile strain.\n",
    "- Modulus of rigity (G): describes tendency of an object to shear when opposing forces are acting on it. Ratio of shear stress over shear strain.\n",
    "- Bulk modulus (K): describes tendency of an object to deform in all directions when uniformly acted upon a force. Ratio of volumentric stress over volumetric strain. Extension of Young's modulus in three dimensions.  "
   ]
  },
  {
   "cell_type": "markdown",
   "metadata": {},
   "source": [
    "_**potentially add an animation of different types of stresses here**_\n"
   ]
  },
  {
   "cell_type": "markdown",
   "metadata": {},
   "source": [
    "As we can see, the one thing that these different types of moduli have in common is the ration of stress over strain. The type of stress and strain then decides which specific elastic modulus we will be working with.  "
   ]
  },
  {
   "cell_type": "markdown",
   "metadata": {},
   "source": [
    "_**Quiding questions**_ :   \n",
    "\n",
    "1. Discuss different types of elastic moduli with respect to biological and non-biological tissues, i.e how can we decide which moduli fits our objective best? \n",
    "2. Are there any limitations with the different types of moduli when it comes to biological tissues? Why/why not? (discussion with partner would be ideal here, as well as some research online)\n"
   ]
  },
  {
   "cell_type": "markdown",
   "metadata": {},
   "source": [
    "### Dynamic modulus  \n",
    "_**Most of this information is based on lectures notes on elasticity from FYS2150**_ [7]"
   ]
  },
  {
   "cell_type": "markdown",
   "metadata": {},
   "source": [
    "Finding elasticity of an object dynamically is slightly more complicated, as it depends on a combination of different physical parameters. To be more specific, we need to find the speed of sound in material in order to relate it to Young's modulus and thus find the elasticity. Before we extend this concept to living cells (which I promise we will do, but a bit later), we can learn a bit more about dynamic modulus by focusing on a much simpler object: a vertical pole.  \n",
    "\n",
    "In order to find elasticity of an object (Young's modulus), we can use the following relationship:  \n",
    "\n",
    "\\begin{align}\n",
    "v = \\sqrt{\\frac{E}{\\rho}}\n",
    "\\end{align}\n",
    "\n",
    "where $v$ is the speed of sound through that object, $E$ is Young's modulus and $\\rho$ is density of the object.  \n",
    "\n",
    "The challenge here is to find the speed of sound propagating through the object. One way of doing it is by using the well known equation relating the speed, frequency and wavelength of a wave:  \n",
    "\n",
    "\\begin{align}\n",
    "v = f \\lambda\n",
    "\\end{align}  \n",
    "\n",
    "The challenge now becomes to find the frequency and wavelenth of the wave(s) propagating through the object. This is very simply done if we have a homogeneous, geometrically simple object, such as a vertical pole. In that case, if we have a homogeneous pole with length L resting with free ends and also resting at its centre of mass (see figure 1 for visual illustration), we can find the wavelength of free longtidudinal oscillations propagating through the pole by using the following relationship:\n",
    "\n",
    "\\begin{align}\n",
    "L = n \\frac{\\lambda}{2}\n",
    "\\end{align}\n",
    "\n",
    "where $n$ = 1, 3, 5... .  \n",
    "In order to excite these standing waves along the pole, we can hit it axially. The dominating wave along the pole is the one with longest wavelength, given as $\\lambda = 2L$ - it is also the wavelength that is demped the least and is therefore perceived by us for a longer period of time.  \n",
    "\n",
    "Now that we have the wavelength ready, we need to find the frequency of this wave. In order to do that, we use concept of beating - concept that arises when two sounds with very similar frequencies are compared by listening, and we are able to hear the beat distinctly. By doing so we are finding the fundamental frequency - which is the frequency that dominates in the pole and whose wavelength is known to us. \n",
    "\n",
    "Once we are able to find this frequency, we use the equation for speed of waves to find the speed of the wave responsible for the fundamental frequency:\n",
    "\n",
    "\\begin{align}\n",
    "v = 2Lf\n",
    "\\end{align}\n",
    "\n",
    "Thus, we are both able to find the wavelength of the standing wave that we are interested in, as well as the frequency of the wave as it is corresponding to the fundamental frequency of the material. If we then know the density of the material, we can easily find Young's modulus $E$ dynamically."
   ]
  },
  {
   "cell_type": "markdown",
   "metadata": {},
   "source": [
    "## Theory - Cells"
   ]
  },
  {
   "cell_type": "markdown",
   "metadata": {},
   "source": [
    "### Structure"
   ]
  },
  {
   "cell_type": "markdown",
   "metadata": {},
   "source": [
    "### Elasticity of cells"
   ]
  },
  {
   "cell_type": "markdown",
   "metadata": {},
   "source": [
    "### AFM: atomic force microscopy"
   ]
  },
  {
   "cell_type": "markdown",
   "metadata": {},
   "source": [
    "### Dynamic moduli: expanding concept and applying it to biological cells"
   ]
  },
  {
   "cell_type": "markdown",
   "metadata": {},
   "source": [
    "## Thinking numerically"
   ]
  },
  {
   "cell_type": "markdown",
   "metadata": {},
   "source": [
    "### Modelling the problem: transferring knowledge "
   ]
  },
  {
   "cell_type": "markdown",
   "metadata": {},
   "source": [
    "### Implementation"
   ]
  },
  {
   "cell_type": "markdown",
   "metadata": {},
   "source": [
    "## Results (present both graphically and visually (animated if possible))"
   ]
  },
  {
   "cell_type": "markdown",
   "metadata": {},
   "source": [
    "## Sources \n",
    "[1] https://www.nature.com/articles/srep06051  \n",
    "[2] https://en.wikipedia.org/wiki/Dynamic_modulus  \n",
    "[3] https://www.sciencedirect.com/topics/engineering/linear-elasticity  \n",
    "[4] https://en.wikipedia.org/wiki/Elastic_modulus  \n",
    "[5] https://www.nature.com/articles/s41592-018-0015-1?proof=t    \n",
    "[6] https://www.ncbi.nlm.nih.gov/pmc/articles/PMC1929047/  \n",
    "[7] Elastisitet FYS2150, Nina Edin, Fysisk Institutt, Universitet i Oslo (2020)"
   ]
  },
  {
   "cell_type": "code",
   "execution_count": null,
   "metadata": {},
   "outputs": [],
   "source": []
  }
 ],
 "metadata": {
  "kernelspec": {
   "display_name": "Python 3",
   "language": "python",
   "name": "python3"
  },
  "language_info": {
   "codemirror_mode": {
    "name": "ipython",
    "version": 3
   },
   "file_extension": ".py",
   "mimetype": "text/x-python",
   "name": "python",
   "nbconvert_exporter": "python",
   "pygments_lexer": "ipython3",
   "version": "3.7.3"
  }
 },
 "nbformat": 4,
 "nbformat_minor": 2
}
