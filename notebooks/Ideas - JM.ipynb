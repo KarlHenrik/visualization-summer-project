{
 "cells": [
  {
   "cell_type": "markdown",
   "id": "d3961ef1-c90c-4506-8455-31a42f43a95e",
   "metadata": {},
   "source": [
    "# Ideer\n",
    "\n",
    "### Braggs diffraksjonslov\n",
    "    \n",
    "- Krystallplan\n",
    "- Periodisitet\n",
    "- Strukturfaktor\n",
    "- Applikasjoner (XRD)\n",
    "    \n",
    "### Romskip/Orbit\n",
    "    \n",
    "-  Oberth effect\n",
    "- Sentrippetalkraft, orbital hastighet \n",
    "- Newtons lover\n",
    "- Kinetisk energi\n"
   ]
  }
 ],
 "metadata": {
  "kernelspec": {
   "display_name": "Python 3 (ipykernel)",
   "language": "python",
   "name": "python3"
  },
  "language_info": {
   "codemirror_mode": {
    "name": "ipython",
    "version": 3
   },
   "file_extension": ".py",
   "mimetype": "text/x-python",
   "name": "python",
   "nbconvert_exporter": "python",
   "pygments_lexer": "ipython3",
   "version": "3.8.10"
  }
 },
 "nbformat": 4,
 "nbformat_minor": 5
}
