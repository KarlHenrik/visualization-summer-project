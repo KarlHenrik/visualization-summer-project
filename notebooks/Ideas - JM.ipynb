{
 "cells": [
  {
   "cell_type": "markdown",
   "id": "d3961ef1-c90c-4506-8455-31a42f43a95e",
   "metadata": {},
   "source": [
    "# Ideer\n",
    "\n",
    "## Braggs diffraksjonslov\n",
    "\n",
    "### Animasjon 1\n",
    "- Bruke definisjonen til å lage oppgaver om trigonometri\n",
    "- Animasjon der du kan endre parameterne vinkel, planavstand, og bølgelenge. For å komme fram til Braggs lov. \n",
    "- Animere inteferens av bølger. \n",
    "\n",
    "### Forklare utifra k-space og bølgevektorer (Animasjon/Illustrasjon 2)\n",
    "- Vektoropperasjoner til å utlede formelen\n",
    "- forklare resiprokt rom utifra vektorer\n",
    "- Koble resiprokt rom og Braggs lov sammen gjennom Ewaldkula.  v\n",
    "\n",
    "## Romskip/Orbit\n",
    "    \n",
    "-  Oberth effect\n",
    "\n",
    "## Linalg\n",
    "\n",
    "- Linear transformations\n",
    "- Eigenvalues\n",
    "- Fourier transformation"
   ]
  },
  {
   "cell_type": "code",
   "execution_count": null,
   "id": "0cf6713b-3d86-4687-a6f0-20f486868746",
   "metadata": {},
   "outputs": [],
   "source": []
  }
 ],
 "metadata": {
  "kernelspec": {
   "display_name": "Python 3 (ipykernel)",
   "language": "python",
   "name": "python3"
  },
  "language_info": {
   "codemirror_mode": {
    "name": "ipython",
    "version": 3
   },
   "file_extension": ".py",
   "mimetype": "text/x-python",
   "name": "python",
   "nbconvert_exporter": "python",
   "pygments_lexer": "ipython3",
   "version": "3.8.10"
  }
 },
 "nbformat": 4,
 "nbformat_minor": 5
}
