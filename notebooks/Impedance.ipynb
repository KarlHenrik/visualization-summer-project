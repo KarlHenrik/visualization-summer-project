{
 "cells": [
  {
   "cell_type": "markdown",
   "metadata": {},
   "source": [
    "# Impedance"
   ]
  },
  {
   "cell_type": "markdown",
   "metadata": {},
   "source": [
    "#### Learning objectives:\n",
    "- Explain what acoustic impedance is in terms of density and speed of medium \n",
    "- Explore reflection and tranmission coefficients physically and mathematically (using visualisation and the slider); what they do to a travelling wave; thinking about energies of waves in terms of reflection and transmission\n",
    "- Compare impedance and refractive index (drawing a parallel between these two): not too important but good to know about it for transfer or knowledge "
   ]
  },
  {
   "cell_type": "markdown",
   "metadata": {},
   "source": [
    "## What is impedance?"
   ]
  },
  {
   "cell_type": "markdown",
   "metadata": {},
   "source": [
    "- have different types of impedance: acoustic and electrical (explain the difference)\n",
    "- have different types of acoustic impedance: specific and non-specific (just acoustic) (explain the difference)\n",
    "- acoustic impedance has analogies with electrical impedance "
   ]
  },
  {
   "cell_type": "markdown",
   "metadata": {},
   "source": [
    "#### Explaining characteristic acoustic impedance"
   ]
  },
  {
   "cell_type": "markdown",
   "metadata": {},
   "source": [
    "The acoustic impedance (Z) of a medium is dependent on the density of medium $\\left(\\rho \\left[\\frac{kg}{m^3}\\right]\\right)$ and the speed of sound through this medium $\\left(c \\left[\\frac{m}{s}\\right]\\right)$ , given as \n",
    "\\begin{align}\n",
    "Z = \\rho c\n",
    "\\end{align}\n",
    "As we can see, it is a purely material property, which simply describes how a sound wave behaves when passing through a specific medium.  \n",
    "\n",
    "When waves are propagating through media with difference impedance, a fraction of those waves is either transmitted or reflected. The _difference_ in impedance is what helps us identify how much of the wave is trasmitted or reflected."
   ]
  },
  {
   "cell_type": "markdown",
   "metadata": {},
   "source": [
    "#### Applying characteristic acoustic impedance to behaviour of waves"
   ]
  },
  {
   "cell_type": "markdown",
   "metadata": {},
   "source": [
    " - understanding concept visually/intuitively first\n",
    " - applying more maths and introducing reflection and transmission coefficient"
   ]
  },
  {
   "cell_type": "markdown",
   "metadata": {},
   "source": [
    "### Reflection and transmission of waves"
   ]
  },
  {
   "cell_type": "markdown",
   "metadata": {},
   "source": [
    "All waves can get reflected when meeting a boundary, and different things affect how the wave behaves once it has encountered the boundary. For now, we are interested in seeing how the difference between impedance values affect the reflected and transmitted waves."
   ]
  },
  {
   "cell_type": "markdown",
   "metadata": {},
   "source": [
    "We will not focus too much on the derivation of the following expressions, however, especially interested can have a look at this .pdf file [\\*] as well as the following lectures from UiO's class in Waves and Oscillations [\\*\\*]."
   ]
  },
  {
   "cell_type": "markdown",
   "metadata": {},
   "source": [
    "In order to get a better understanding of impedance, we can define two boundaries: $Z_a$ and $Z_b$. We will use these to define the impedances of the first boundary, where our wave will be coming from ($Z_a$), and $Z_b$ as the impedance of the second boundary, where our wave is travelling to. We know that our wave has an amplitude that it is travelling with - let us denote it as $A_i$ (for incoming amplitude). We also know that our wave will either get reflected or transmitted - and we can denote those amplitudes as $A_r$ and $A_t$ respectively. The reason why we are interested in defining these amplitudes is because amplitudes are directly related to the energy transported by the wave (recall that intensity is proportional with square of amplitude, $I \\propto A^2 $, and intensity is simply energy per unit area per unit time). Using this information, we can define \n",
    "\n",
    "\\begin{align}\n",
    "R = \\frac{A_r}{A_i}\n",
    "\\end{align}\n",
    "\n",
    "which we call the _reflection coefficient_ $R$, that gives us the fraction of the wave that gets reflected. Furthermore, it is also given as \n",
    "\n",
    "\\begin{align}\n",
    "R = \\frac{Z_{a} - Z_{b}}{Z_{a} + Z_{b}}\n",
    "\\end{align}\n",
    "\n",
    "which shows us how the reflection coefficient $R$ is related to the impedances of the boundaries that our wave is travelling through.  \n",
    "\n",
    "We can extend this idea to find the _transmission coefficient_ $T$, which gives us the fraction of the wave that gets transmitted:\n",
    "\n",
    "\\begin{align}\n",
    "T = \\frac{A_{t}}{A_{i}} = \\frac{2 Z_{a}}{Z_{a} + Z_{b}}\n",
    "\\end{align}\n",
    "\n",
    "In order to understand how we came about these derivations, we need to consider conservation of energy and apply it to amplitudes of the wave (incoming, reflected and transmitted). To make this easier to understand, we can represent the same coefficients using electromagnetic (EM) waves, where we denote the amplitude of the incoming EM wave as $E_i$, amplitude of the reflected wave as $E_r$ and transmitted as $E_t$. We can also use the well known refractive indices of different media denoted as $n_1$ and $n_2$ that are analagous to $Z_a$ and $Z_b$. Thus, we arrive at very similar equations relating amplitudes of the incoming, reflected and transmitted EM wave and refractive indices of media that it propagates through:\n",
    "\n",
    "\\begin{align}\n",
    "r = \\frac{E_r}{E_i} = \\frac{n_1 - n_2}{n_1 + n_2}\n",
    "\\end{align}\n",
    "\n",
    "where $r$ is the reflection coefficient for EM waves (analagous to $R$ for impedance) and \n",
    "\n",
    "\\begin{align}\n",
    "t = \\frac{E_t}{E_i} = \\frac{2n_1}{n_1 + n_2}\n",
    "\\end{align}\n",
    "\n",
    "where $t$ is the transmission coefficient analagous to $T$.\n",
    "\n",
    "Thus, we are able to connect the concept of impedance to concept of refractive index and how waves (regardless of their type) behave when they propagate from one media to another."
   ]
  },
  {
   "cell_type": "markdown",
   "metadata": {},
   "source": [
    "Now that we have mathematical expressions ready, we can try to visualise exactly how impedance affects the behaviour of a wave. "
   ]
  },
  {
   "cell_type": "markdown",
   "metadata": {},
   "source": [
    "### this is where my animation is going to be"
   ]
  },
  {
   "cell_type": "markdown",
   "metadata": {},
   "source": [
    "Hopefully, you were able to move the sliders to change the impedance of the boundaries to see how the wave behaves.  \n",
    "\n",
    "- maybe add some questions here about impedance? or maybe save them for when we are applying it to biological impedance (impedance of different tissues)?"
   ]
  },
  {
   "cell_type": "markdown",
   "metadata": {},
   "source": [
    "## Impedance in ultrasound"
   ]
  },
  {
   "cell_type": "markdown",
   "metadata": {},
   "source": [
    "Ultrasound imaging is a widely used practice in medical practice which relies on propagation of sound waves through different tissue. The term \"ultrasound\" stems from the fact that the sound waves sent through tissue have a frequency ranging between 2.5 and 10 MHz, which is beyond the audible spectrum for humans [1]. The waves that are firstly send through tissue go through series of reflection and transmission, and are then picked up again to create an imagine of the organ that is of interest."
   ]
  },
  {
   "cell_type": "markdown",
   "metadata": {},
   "source": [
    "## References and further readings\n",
    "\\* https://scholar.harvard.edu/files/schwartz/files/lecture9-impedance.pdf  \n",
    "\n",
    "\\** https://www.uio.no/studier/emner/matnat/fys/FYS2130/v21/forelesningsvideoer/del1_GOOD_zoom_merge.mp4?vrtx=view-as-webpage  \n",
    "\n",
    "[1] https://thoracickey.com/physical-principles-of-ultrasound-and-generation-of-images/"
   ]
  },
  {
   "cell_type": "code",
   "execution_count": null,
   "metadata": {},
   "outputs": [],
   "source": []
  }
 ],
 "metadata": {
  "kernelspec": {
   "display_name": "Python 3",
   "language": "python",
   "name": "python3"
  },
  "language_info": {
   "codemirror_mode": {
    "name": "ipython",
    "version": 3
   },
   "file_extension": ".py",
   "mimetype": "text/x-python",
   "name": "python",
   "nbconvert_exporter": "python",
   "pygments_lexer": "ipython3",
   "version": "3.6.7"
  }
 },
 "nbformat": 4,
 "nbformat_minor": 2
}
