{
 "cells": [
  {
   "cell_type": "markdown",
   "id": "ff2ffcab",
   "metadata": {},
   "source": [
    "# Oberth effect"
   ]
  },
  {
   "cell_type": "markdown",
   "id": "7ce93a7e",
   "metadata": {},
   "source": [
    "## Learning outcomes\n",
    "- Mechanical energy and conservation laws \n",
    "- Relate velocity to energy\n",
    "- Newtonian motion and forces"
   ]
  },
  {
   "cell_type": "markdown",
   "id": "5f735ad5",
   "metadata": {},
   "source": [
    "## Introduction\n",
    "\n",
    "In this example, we are going to look at a maneuver in spacetravel called the Oberth maneuver. This is a way for a rocket to gain additional speed and mechanical energy by falling into a planet's gravitational well and applying its propelent at a very specific location in orbit."
   ]
  },
  {
   "cell_type": "markdown",
   "id": "fc4a215f",
   "metadata": {},
   "source": [
    "## Fundamental theory\n",
    "\n",
    "In orbit the spaceship is primarily affected by the gravitaional force between its own mass and the mass of a much larger planet. If m denotes the mass of the spaceship, and M is the mass of a given planet, given that M >> m the gravitational force is given by\n",
    "\n",
    "$$\n",
    "\\begin{align}\n",
    "F = G\\frac{mM}{r^2}\n",
    "\\end{align}\n",
    "$$\n",
    "\n",
    "Resulting from this force, we can calcualte the mechanical energy of the spacship from the sum of its potential (U) and kinetic (k) energy. \n",
    "\n",
    "$$\n",
    "\\begin{align}\n",
    "E = U + K\n",
    "\\end{align}\n",
    "$$\n",
    "\n",
    "> ***Write down the expressions for the kinetic and potential energy of the spacship***\n",
    ">\n",
    "> ***Would you excpect this quantaty to change during orbit?*** \n",
    "\n",
    "In the spaceship's path, there are two locations of particular interest, the apoasis and the periapsis. The latter is the point in which the spaceship is closest to the planet during orbit, and likewise the furthest point is called the apoasis. The mean velocity of the spaceship during orbit can be approximated to  \n",
    "\n",
    "$$\n",
    "v_0 = \\sqrt{\\frac{GM}{r}}\n",
    "$$\n",
    "\n",
    ", where r is the distance between the center of mass of the planet and the spaceship. \n",
    "\n",
    "> ***Based on the equation above, do you think the oribtal velcoty is greatest at the periapsis or the apoasis?*** \n",
    ">\n",
    "> ***Can you name one law of physics to validate your answer? (hint: Kepler's laws)***\n",
    ">\n",
    "> ***Mention one approximation that must be condidered for this equation to be valid (hint: What is the main difference between a spaceship and a planet?)***\n",
    "\n"
   ]
  },
  {
   "cell_type": "markdown",
   "id": "61e346fb",
   "metadata": {},
   "source": [
    "## Energy\n",
    "\n",
    "A rocket operates by transferring momentum to its propelant with a constant backwards exhaust velocity. Thus, regardles of the rocket's intial velocity and postion in orbit, the propelent produce a constant increament to the velocity. In this example we will treat fuelusage in the rocket as brief implusive burn. When accelerated by the propelent, the rocket expcectedly have increase in its kinetic energy. We say that after a burn, the rocket alters its velocity from v to $ v + \\delta v $, therby causing a change in the kinetic energy as well. \n",
    "\n",
    "$$\n",
    "\\begin{align}\n",
    "\\Delta K_R = 1/2 m(v_R + \\delta v)^2 - 1/2 mv_R^2\n",
    "\\end{align}\n",
    "$$\n",
    "\n",
    "> ***From the equation above, do you excpect the change in kinetic energy to\n",
    "> be greater at the periapsis or the apoasis after an impulsive burn?*** \n",
    "> \n",
    "> ***Given that an impulsive burn produce a 10 % increase to the velocity. \n",
    "> If the rocket travels with a speed of 10 m/s at the apoasis and 100 m/s at the\n",
    "> periapsis. Calcualte the change in kinetic energy at both locations? Was \n",
    "> your guess correct?*** \n",
    ">\n",
    "> ***Write down the expression for the change in kinetic energy for the\n",
    "> exhaust (hint: Assume the exhaust velocity is constant and in the opposite \n",
    "> direction of the rocket's velocity)*** "
   ]
  },
  {
   "cell_type": "markdown",
   "id": "bf061e93",
   "metadata": {},
   "source": [
    "## Work\n",
    "\n",
    "In an analogous way of seeing this result, lets consider the mechanical energy, or work being done by the propelant on the rocket. Assuming the angle between the exhaust and the traveling direction of the rocket is equal to $ \\pi $, the work can be defined as the dot product of the force and distance.\n",
    "\n",
    "$$\n",
    "W = F \\cdot \\delta x\n",
    "$$\n",
    "\n",
    "> ***Rewrite this expression to include the velocity of the rocket***\n",
    ">\n",
    "> ***Noting that the force remains constant, what is the reason that the mechanical energy icreases more near the periapsis than the apoasis when applying propelent?***"
   ]
  },
  {
   "cell_type": "markdown",
   "id": "a5b85bf8",
   "metadata": {
    "tags": []
   },
   "source": [
    "## Paradox\n",
    "\n",
    "Earlier, we learned that the the rocket can gain addition mechanical energy by correctly applying the chemical energy in the propelent. But why is that? The propelent energy remains constant throughout the path, and so must the mechanical energy of the entire system in accordance with the law of conservation. So where exactly does this additonal energy stem from? \n",
    "\n",
    "\n",
    "Lets consider the total change in kinetic energy for the entire system. Let $ K_R, K_{ex} $ denote the kinetic energy of the rocket and exhaust respectivly, likewise for their induvidual velocities, and finally let $ E_{chem} $ represent the total chemical energy of the propelent.\n",
    "\n",
    "$$\n",
    "\\begin{align}\n",
    "\\Delta K = \\Delta K_R + \\Delta K_{ex} = 1/2 m_R \\Delta v^2 + 1/2m_{ex} v_{ex}^2 = \\Delta E_{chem}\n",
    "\\end{align}\n",
    "$$\n",
    "\n",
    "> ***Derive this expression from the changes in kinetic\n",
    "> energy of the rocket and exhaust. (hint: Use the law of conserervation for\n",
    "> momentum)***.\n",
    ">\n",
    "> ***At what velocity does all of $ E_{chem} $ transfer to kinetic energy of the rocket? (hint: Look at the expression for $ K_{ex} $)*** \n",
    ">\n",
    "> ***What happens if the velocity of the rocket increases beyond this value?***\n"
   ]
  },
  {
   "cell_type": "markdown",
   "id": "cb7a60fb",
   "metadata": {},
   "source": [
    "## Additonal excercises\n",
    "\n",
    "- ***Find the expression for the velocity after an impulsive burn at both the apoasis and the periapsis. See this (link) for help.***"
   ]
  },
  {
   "cell_type": "code",
   "execution_count": null,
   "id": "b9df455c",
   "metadata": {},
   "outputs": [],
   "source": []
  }
 ],
 "metadata": {
  "kernelspec": {
   "display_name": "Python 3 (ipykernel)",
   "language": "python",
   "name": "python3"
  },
  "language_info": {
   "codemirror_mode": {
    "name": "ipython",
    "version": 3
   },
   "file_extension": ".py",
   "mimetype": "text/x-python",
   "name": "python",
   "nbconvert_exporter": "python",
   "pygments_lexer": "ipython3",
   "version": "3.8.10"
  }
 },
 "nbformat": 4,
 "nbformat_minor": 5
}
