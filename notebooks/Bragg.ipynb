{
 "cells": [
  {
   "cell_type": "markdown",
   "id": "a6dfa819-19b8-45be-9aea-9c00659cae84",
   "metadata": {},
   "source": [
    "# Materials science and Bragg's law by animation and illutration"
   ]
  },
  {
   "cell_type": "markdown",
   "id": "95011b46-2245-40a6-be78-faeac2df97be",
   "metadata": {},
   "source": [
    "## Learning outcomes    \n",
    "- Be able to discuss and relate the different components that make up Bragg's diffraction law and how they impact an XRD-dataset. \n",
    "- Be able to sketch a geometric interpretation of Bragg's law\n",
    "- Explain and recall simple terms related to the crystal structure of a material.\n",
    "- (Noe rundt k-space og hkl-plan). "
   ]
  },
  {
   "cell_type": "markdown",
   "id": "94b6f6f9-ee56-4c3c-aba3-14c57fc6dd78",
   "metadata": {},
   "source": [
    "## Introduction\n",
    "In this \"book\" we will explore some central concepts within the field of materials science, and as well attempt to apply properties of mathematics such as vectors and trognometry to derive complex physical models and laws. Notably we will make use of animation to illusrtrate the concept of wave superposition and finaly Bragg's law of diffraction, which is a specific example of the Laue condition.   "
   ]
  },
  {
   "cell_type": "markdown",
   "id": "6c42bdc3-865c-40e8-a2ef-4abbdb8e041f",
   "metadata": {
    "tags": []
   },
   "source": [
    "## Materials science\n",
    "To begin with, lets take a look at two terms that pretty much lay the foundation of which most of modern materials science is built on, namley the crystal cell (or supercell) and its corresponding unit cell. (Shown in figure 1)  \n",
    "\n",
    "![Unit cell](Images/unitCell.png)\n",
    "\n",
    "Figure 1: An illustration of a typical unit cell of a periodic supercell\n",
    "\n",
    "This representation of material structures treats atomic ordering as an infinite periodic arrays of discrete points, and is known as a Bravais lattice. In 3D, there are 14 induvidual classes, one of which is the \"primitive cell\", shown above. One common feature of these cells is that they are made up of three angles $\\alpha, \\beta, \\gamma$, and three unit axes $a, b, c$. In the simplest case, the cubic unit cell, a = b = c, and $\\alpha = \\beta = \\gamma = 90^\\circ$. But this is not nescaccarly the case for other structures, such as a hexagonal or triclinic bravais lattices (See additional reading). \n",
    "\n",
    "One of the key concepts of the Bravais lattice are the lattice points. A lattice point can in theory represent an atom, or a molecule, but given the symmetry of the supercell, an induvidual lattice will only equal a fraction of said atom/molecule becaouse the same point is shared between neigboring cells (See figure 1 and study the amount of cells that share one point). For example, a corner point in a bravais lattice is shared by eight cells, therefore a corner latice point is equal to 1/8 atom/molecule.\n",
    "\n",
    "Another neat feature of a Bravais lattice is that every point in the lattice can be described by the sum of the three unit axes a,b,c and three integers. If we let the vector $\\vec{R}$ describe the vector from the unit cell origio, to a given point, then each lattice point can be described by \n",
    "\n",
    "$$\n",
    "\\vec{R} = u\\vec{a} + v\\vec{b} + w\\vec{c} \n",
    "$$ , where u, v, and w are integers. \n",
    "\n",
    "For instance, some of the lattice points in the example structure in figure 1 is located at [1a,0b,0c], [0a,1b,0c] and [0a,0b,1c].\n",
    "\n",
    "> Descibe the remaining lattice points in figure 1b in the similar manner.\n",
    ">\n",
    "> Look at figure 2, can you describe the points at the midway point in this cell in an eqvivalent manner? \n"
   ]
  },
  {
   "cell_type": "markdown",
   "id": "c4b5f9f9-101b-474f-9e61-293cc1d2a132",
   "metadata": {},
   "source": [
    "![FCC-lattice](Images/fcc_lattice.jpeg)\n",
    "\n",
    "Figure 2: A very common crystal structure called an FCC lattice, this lattice is the prefereed arrangement of many materials, examples are NaCl, Dimond and Aluminum. "
   ]
  },
  {
   "cell_type": "markdown",
   "id": "6b665932-5d88-406b-bc1b-92779def2508",
   "metadata": {},
   "source": [
    "Before moving on to superposition and Bragg's law, there is one last term that should be introduced in regard to crystal structure. In a bravais lattices there are a particular notation for describing planes of atoms in the cell called Miller indecis, the planes are commonly called hkl-planes and follows the notation {hkl}, in which h,k,l are integers related to fractions of each unit axis. "
   ]
  },
  {
   "cell_type": "markdown",
   "id": "ca91e7c7-b87b-4cab-9449-9c037657940d",
   "metadata": {},
   "source": [
    "## Superposition of waves\n",
    "Before moving on, lets take a quik look at some important properties of wavetheory.Waves being a linear system, satisfy the superposition principle. In short, when two inital waves traverse the same space, their addidative wave is formed by the the sum of the intial waves induvidual amplitudes. This can result in whats known as constructive or destructive interference. \n",
    "\n",
    "> Try adjusting the variables in the animation bellow and see if you can work out the foundations of destructive and constructive interference. \n",
    "    \n",
    "    [Insert animation of superposition]"
   ]
  },
  {
   "cell_type": "markdown",
   "id": "d1c7316f-35bf-4196-be67-8aa3e91db659",
   "metadata": {
    "tags": []
   },
   "source": [
    "## Bragg's law \n",
    "\n",
    "## What is Bragg's law?\n",
    "When two in-phase waves, strike two crystallographic planes seperated by a distance d, Bragg's law states the condtion that must be met for the scattered rays to also remain in-phase, thus creating constructive interference. The defintion is:\n",
    "\n",
    "$$\n",
    "n \\lambda = 2dsin(\\theta)\n",
    "$$\n",
    "\n",
    "Stating that the product of the waves incident angle $\\theta$ on the crystal planes and the distance between planes, must equal an integer times the waves wavelength $\\lambda$.\n",
    "But what does this mean? \n",
    "\n",
    "> Play around with the animation below and try and figure out how the value of d and \\theta are related\n",
    "> to eachother by studying the outgoing waves. \n",
    "\n",
    "    [Insert animation here!]\n",
    "\n",
    "## Bragg's law from a geometric perspective. \n",
    "\n",
    "![Bragg's law](Images/bragg-1.jpg)\n",
    "\n",
    "### Other explanations; K-space/k-vector, Laue equations, Ewald sphere. \n",
    "\n"
   ]
  },
  {
   "cell_type": "markdown",
   "id": "a0062283-4d74-432e-b66c-32fd6ccab69c",
   "metadata": {},
   "source": [
    "## Application\n",
    "\n",
    "![SAD](Images/SAD.jpg)\n",
    "\n",
    "A Selected Area Diffraction (SAD) image. \n",
    "\n",
    "![XRD](Images/xrd.png) \n",
    "\n",
    "An XRD spectrum of Si. "
   ]
  },
  {
   "cell_type": "code",
   "execution_count": null,
   "id": "1527b7d0-a268-40ca-a438-87c23d321f3d",
   "metadata": {},
   "outputs": [],
   "source": []
  }
 ],
 "metadata": {
  "kernelspec": {
   "display_name": "Python 3 (ipykernel)",
   "language": "python",
   "name": "python3"
  },
  "language_info": {
   "codemirror_mode": {
    "name": "ipython",
    "version": 3
   },
   "file_extension": ".py",
   "mimetype": "text/x-python",
   "name": "python",
   "nbconvert_exporter": "python",
   "pygments_lexer": "ipython3",
   "version": "3.8.10"
  }
 },
 "nbformat": 4,
 "nbformat_minor": 5
}
