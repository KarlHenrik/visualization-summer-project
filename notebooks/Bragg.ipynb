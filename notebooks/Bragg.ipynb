{
 "cells": [
  {
   "cell_type": "markdown",
   "id": "a6dfa819-19b8-45be-9aea-9c00659cae84",
   "metadata": {},
   "source": [
    "# Materials science and Bragg's law by animation"
   ]
  },
  {
   "cell_type": "markdown",
   "id": "95011b46-2245-40a6-be78-faeac2df97be",
   "metadata": {},
   "source": [
    "## Learning outcomes    \n",
    "- Be able to discuss and relate the different components that make up Bragg's diffraction law and how they impact an XRD-dataset. \n",
    "- Be able to sketch a geometric interpretation of Bragg's law\n",
    "- Explain and recall simple terms related to the crystal structure of a material.\n",
    "- (Noe rundt k-space og hkl-plan). "
   ]
  },
  {
   "cell_type": "markdown",
   "id": "94b6f6f9-ee56-4c3c-aba3-14c57fc6dd78",
   "metadata": {},
   "source": [
    "## Introduction"
   ]
  },
  {
   "cell_type": "markdown",
   "id": "6c42bdc3-865c-40e8-a2ef-4abbdb8e041f",
   "metadata": {
    "jp-MarkdownHeadingCollapsed": true,
    "tags": []
   },
   "source": [
    "## Materials science\n",
    "Materials with a long periodic structure of atoms can be said to have a crystaline structure. The atoms is represented as spheres as shown in figure (..)\n",
    "\n",
    "    [Insert figure unit cell]\n",
    "\n",
    "This figure is called the unit cell of a material, and vary fror different materials. Equal for all materials is that their unit cell can be described by three vectors a, b, and c, and corresponding angles $\\alpha, \\beta, \\gamma$ . For instance sodium chloride adopt the common face centered cubic crystal lattice, in which a = b = c, and $\\alpha = \\beta = \\gamma = 90\\degree$ . In a unit cell, atoms are represented as either a singular or a collection of spheres. A uniqe feature of the unit cell is that each sphere can be described by the vectors a, b and c. If R is the distance from the origin to a sphere, we say that:   \n",
    "\n",
    "$$\n",
    "R = u\\vec{a} + v\\vec{b} + w\\vec{c} \n",
    "$$ , where u, v, and w are scalars. \n",
    "\n",
    "    [Add a animation for drawing vectors in the unit cell, and excercises!]\n",
    "\n",
    "Continuing on the theme of unit cells. We also have a way of describing planes of atoms within the cell called Miller indecis, or hkl-planes as each plane is described by three scalars {hkl}. \n",
    "    \n",
    "    [Expand on hkl planes, add a animation for constructing planes and excercises!]"
   ]
  },
  {
   "cell_type": "markdown",
   "id": "d1c7316f-35bf-4196-be67-8aa3e91db659",
   "metadata": {
    "tags": []
   },
   "source": [
    "## Bragg's law? \n",
    "\n",
    "## Superposition of waves\n",
    "Before moving on, lets take a quik look at some important properties of wavetheory.Waves being a linear system, satisfy the superposition principle. In short, when two inital waves traverse the same space, their addidative wave is formed by the the sum of the intial waves induvidual amplitudes. This can result in whats known as constructive or destructive interference. \n",
    "\n",
    "> Try adjusting the variables in the animation bellow and see if you can work out the foundations of destructive and constructive interference. \n",
    "    \n",
    "    [Insert animation of superposition]\n",
    "\n",
    "## What is Bragg's law?\n",
    "When two in-phase waves, strike two crystallographic planes seperated by a distance d, Bragg's law states the condtion that must be met for the scattered rays to also remain in-phase, thus creating constructive interference. The defintion is:\n",
    "\n",
    "$$\n",
    "n \\lambda = 2dsin(\\theta)\n",
    "$$\n",
    "\n",
    "Stating that the product of the waves incident angle $\\theta$ on the crystal planes and the distance between planes, must equal an integer times the waves wavelength $\\lambda$.\n",
    "But what does this mean? \n",
    "\n",
    "> Play around with the animation below and try and figure out how the value of d and \\theta are related\n",
    "> to eachother by studying the outgoing waves. \n",
    "\n",
    "    [Insert animation here!]\n",
    "\n",
    "## Bragg's law from a geometric perspective. \n",
    "    [Insert picture of Bragg geometry]\n",
    "\n",
    "### Other explanations; K-space/k-vector, Laue equations, Ewald sphere. \n",
    "\n",
    "### Application\n",
    "\n"
   ]
  },
  {
   "cell_type": "code",
   "execution_count": null,
   "id": "05113344-983c-4ee6-9f0e-147ca5ef4e70",
   "metadata": {},
   "outputs": [],
   "source": []
  }
 ],
 "metadata": {
  "kernelspec": {
   "display_name": "Python 3 (ipykernel)",
   "language": "python",
   "name": "python3"
  },
  "language_info": {
   "codemirror_mode": {
    "name": "ipython",
    "version": 3
   },
   "file_extension": ".py",
   "mimetype": "text/x-python",
   "name": "python",
   "nbconvert_exporter": "python",
   "pygments_lexer": "ipython3",
   "version": "3.8.10"
  }
 },
 "nbformat": 4,
 "nbformat_minor": 5
}
