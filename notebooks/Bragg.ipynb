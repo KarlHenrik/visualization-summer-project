{
 "cells": [
  {
   "cell_type": "markdown",
   "id": "a6dfa819-19b8-45be-9aea-9c00659cae84",
   "metadata": {},
   "source": [
    "# Materials science and Bragg's law by Animation and Visualization"
   ]
  },
  {
   "cell_type": "markdown",
   "id": "95011b46-2245-40a6-be78-faeac2df97be",
   "metadata": {},
   "source": [
    "## Learning outcomes    \n",
    "- Be able to discuss and relate the different components that make up Bragg's diffraction law and how they impact an XRD-dataset. \n",
    "- Sketch how Bragg's law can be derived from simple geometric features\n",
    "- Explain and recall simple terms related to the crystal structure of a material."
   ]
  },
  {
   "cell_type": "markdown",
   "id": "94b6f6f9-ee56-4c3c-aba3-14c57fc6dd78",
   "metadata": {},
   "source": [
    "## Introduction\n",
    "In this \"book\" we will explore some central concepts of materials science and experimental methods that are commonly used. The key takeway from this will hopefully be how complex models and physical laws can be shown to be derivatives of simple mathermatic properites, specifilcly vector operations and gemometry. Hopefully you might remember some terms from materials science and how they are studied experimentaly.   "
   ]
  },
  {
   "cell_type": "markdown",
   "id": "6c42bdc3-865c-40e8-a2ef-4abbdb8e041f",
   "metadata": {},
   "source": [
    "## Crystal structure\n",
    "To begin with, lets take a look at two essential terms of materials science, namley the **supercell** and its corresponding **unit cell**. (Shown in figure 1)  \n",
    "\n",
    "![Unit cell](Images/unitCell.png)\n",
    "\n",
    "Figure 1: An illustration of a typical unit cell of a periodic supercell\n",
    "\n",
    "This representation of crystal structures treats atomic ordering as an infinite periodic arrays of discrete points, and is known as a **Bravais lattice**. In 3D, there are 14 induvidual classes, one of which is the \"primitive cell\", shown above(right). Common for all unit cells is that they represent the smallest possible ordering to capture the perodicity of the larger supercell, and hence is made up of three angles $\\alpha, \\beta, \\gamma$, and three unit axes $a, b, c$, poiting to various spheres called **lattice points**. In cubic unit cells, for instance a face centered cubic lattice (figure 2), a = b = c, and $\\alpha = \\beta = \\gamma = 90^\\circ$. But this is not nescaccarly the case for other structures, such as a hexagonal or triclinic bravais lattices.\n",
    "\n",
    "From figure 1 we can see that every lattice point can be described by the unit axes a, b, c. For instance the corner points in the bottom plane in the unit cell is located at: \n",
    "\n",
    "$$\n",
    "\\vec{r_1} = 1*\\vec{a} + 0*\\vec{b} + 0*\\vec{c} \\\\\n",
    "\\vec{r_2} = 0*\\vec{a} + 1*\\vec{b} + 0*\\vec{c} \\\\\n",
    "\\vec{r_3} = 1*\\vec{a} + 1*\\vec{b} + 0*\\vec{c}\n",
    "$$\n",
    "\n",
    ", if $\\vec{r}$ is a vector pointing from origo (0,0,0) to the lattice point. In general we say that each lattice point in the supercell can be desribed by integers u, v, w and the unit axes a,b, c as $\\vec{r} = u\\cdot \\vec{a} + v\\cdot \\vec{b} + w\\cdot \\vec{c}$. \n",
    "This term lattice point can in theory represent an atom, but it can also represent a collection of atoms or a molecule. One feature to make note of is that beacouse of the symmetry of the supercell, every induvidual lattice point will only equal a fraction of said atom/molecule as the same point is shared between neigboring cells (See figure 1 and study the amount of cells that share one point). For example, a corner point in a bravais lattice is shared by eight cells, therefore a corner latice point is equal to 1/8 atom/molecule.\n",
    ">\n",
    "> **Look at figure 2, can you describe the points at the midway point in this cell in an eqvivalent manner to that above?** \n",
    ">\n",
    "> **What is the volume of an FCC lattice in terms of a?**\n",
    ">\n",
    "> **How many atoms/molecules does an FCC unit cell contain?**\n"
   ]
  },
  {
   "cell_type": "markdown",
   "id": "c4b5f9f9-101b-474f-9e61-293cc1d2a132",
   "metadata": {},
   "source": [
    "![FCC-lattice](Images/fcc_lattice.jpeg)\n",
    "\n",
    "Figure 2: A very common crystal structure called an FCC lattice, this lattice is the prefereed arrangement of many materials, examples are NaCl, Dimond and Aluminum. "
   ]
  },
  {
   "cell_type": "markdown",
   "id": "6b665932-5d88-406b-bc1b-92779def2508",
   "metadata": {},
   "source": [
    "The planes of atom in a lattice is commonnly reffered to as **crystal planes** or hkl planes due to their particular notation {hkl}. For instance, in figure 2 we note that the top plane is denoted {001} as it cuts the c axis, and is parallel to the a, and b direction. A very important parameter related to the idea of crystal planes is the quantity plane distance (or seperation), and it represent the distance from a plane to the next identical plane. In this example, as the next plane of atoms equal to the top plane, is the bottom plane. The plane distance is equal to the size of the c-axis.\n",
    "\n",
    "See [Miller index and crystal planes](https://en.wikipedia.org/wiki/Miller_index) for more information on crystal planes, and to see examples of the most common ones."
   ]
  },
  {
   "cell_type": "markdown",
   "id": "ca91e7c7-b87b-4cab-9449-9c037657940d",
   "metadata": {},
   "source": [
    "## Superposition of waves\n",
    "Before moving on, lets take a quik look at some important properties of wavetheory. Waves being a linear system, satisfy the superposition principle that in short expalins the form of an addidative wave from two initial waves that traverese thes same space. The resultant wave is formed by the the sum of the amplitudes from the intial waves. This can result in whats known as either constructive or destructive interference. \n",
    "\n",
    "> Try adjusting the variables in the animation bellow and see if you can achive complete destructive/constructive interference. \n",
    "    \n",
    "    [Insert animation of superposition]\n",
    "    \n",
    "The takeaway from this is that superposition of two waves result in completly constructive interfernce if their phase is an integer times $ \\pi $ , and opposite completly destructive when $ \\pi /2 $ phase shifted."
   ]
  },
  {
   "cell_type": "markdown",
   "id": "d1c7316f-35bf-4196-be67-8aa3e91db659",
   "metadata": {
    "tags": []
   },
   "source": [
    "## Bragg's law \n",
    "\n",
    "## What is Bragg's law?\n",
    "Bragg's law is a widley applied law in physics that is used to examine various crystallographic properties. Some of the various instrumentations and appliences of Bragg's law will be discussed briefly at the end. However the instrumentation, the central working method is Bragg's law. When two in-phase waves strike crystallographic planes seperated by a distance d, the Bragg condition states the relation between the incident and outgoing waves for the scattered rays to remain in-phase, thus creating constructive interference. The defintion is:\n",
    "\n",
    "$$\n",
    "n \\lambda = 2dsin(\\theta)\n",
    "$$\n",
    "\n",
    "Thus, per defition the product of the waves incident angle $\\theta$ on the crystal planes and the distance between planes, must equal an integer times the incident wavelength $\\lambda$.\n",
    "But what does this mean? \n",
    "\n",
    "> Play around with the animation below and try and figure out how the value of d and \\theta are related\n",
    "> to eachother by studying the outgoing waves. \n",
    "\n",
    "The animation below is an attempt to illustrate the geometric relation that makes up the Bragg conditon. You should try increasing/decreasing the incident angle by pressing the arrow keys, and also alter the plane seperation d through the slider. And it should be apperant when the condition yields constructive and destructive interference. \n",
    "    \n",
    "    [Insert animation here!]\n",
    "\n",
    "## Bragg's law from a geometric perspective. \n",
    "\n",
    "![Bragg's law](Images/bragg-1.jpg)\n",
    "\n",
    "Figure 3: A schematic view of the geometric values in a Bragg diffraction example\n",
    "\n",
    "With the aid of figure 3, it can be shown that Bragg's law come to fruition simply from trigonometric considerations. Remembering the the phase-relation for constructive vs destructive interference, ie $\\pi /2$ promotes completly destructive interference, but $n\\cdot \\pi$ yileds constructive interference. Also remembering the goal of Bragg's law, namely that the scattering of two in-phase rays produce also two in-phase outgoing waves. If we then consider the incident and scattered ray to note the path of one wave , we find that the Bragg's law is satisfied when the path of one wave is an integer times the wavelength of the first wave.  "
   ]
  },
  {
   "cell_type": "markdown",
   "id": "48391083-54b2-4c57-be34-5900abdcc1b9",
   "metadata": {},
   "source": [
    "We can see that the distance GH is equal to $d*sin(\\theta)$, and by geometrical considerations also GF. So that in order for wave two to be in phase with wave 1 after scattering, the distance F-G-H must exactly equal an integer times the wavelength. Thus Bragg's law!"
   ]
  },
  {
   "cell_type": "markdown",
   "id": "a0062283-4d74-432e-b66c-32fd6ccab69c",
   "metadata": {},
   "source": [
    "## Application\n",
    "Why are we at all interested in Bragg's law? Despite the fun trigonomety and vector excercies of course! Well, it just so happens that its an extremly important law of physics that is applied to study materials. The most common methods of examining materials today via spectroscopy is through methods such as X-ray diffraction or electron spectrocopy. And yes you guessed it, both of those rely heavily on Bragg diffraction. Lets first take a look at XRD and its use. In an XRD instrument, a sample, traditionally of powder, is being examined by monochromatic X-ray beams, most comonly $\\kappa \\alpha_1$ of either Cu or Mg. The main concept of this instrumentation is the rotation of the sample, when rotating the sample, according to Bragg's law certain crystal planes gives rise to constructive interference that is registred at the sensor, along the value of $\\theta$. From this, one can consruct and X-ray diffractogram of the sample as the one shown for Si bellow (Figure 4). From this one can relate the different values of $\\theta$ and intensites throguh bragg's law to obtain information about the crystal structure of the sample. There is also possibilty to do qualitative and quantative analyisis of the sample from data in the diffractogram.     \n",
    "\n",
    "\n",
    "![XRD](Images/xrd.png) \n",
    "\n",
    "An XRD spectrum of Si. \n",
    "\n",
    "\n",
    "![SAD](Images/SAD.jpg) ![TEM](Images/TEM.jpg)\n",
    "\n",
    "A Selected Area Diffraction (SAD) image of a single crystal, and a TEM image of a polycrystalline sample \n",
    "\n",
    "As mentioned above, in addition to X-ray diffraction, electron diffraction, specifly the Transmission Electron Microscopy (TEM) is a widley used instrument in materials science. In a TEM study, the sample must be very thin in order for the incomming beam of high-energy electrons to pass through the sample. Bellow is typpical TEM diffraction images of a single crystal and a polycrystaline specimen called SAD, or selected area diffraction images. The feature to take note of here is that a single crystal shows diffraction spots, while a polycrystal displays diffraction rings. In the single crystal, the spots each represent a crystal plane, while the rings each represent a set of planes with equal plane spacing. \n",
    "\n",
    "**Question: Why is the diffraction pattern different for single crystals and polycrystaline specimens?**  \n",
    "\n",
    "**Question: The zone axis is a term related to the direction the electronbeam traverse through the crystal, and all diffraction planes in the SAD are orthogonal to this direction. What is the zone axis for the SAD image in figure 5?**\n",
    "\n",
    "![Zone axis 1](Images/zone1.jpg) ![Zone axis 2](Images/zone2.jpg)\n",
    "\n",
    "Figure 5: SAD patterns for two different zone axises"
   ]
  },
  {
   "cell_type": "code",
   "execution_count": null,
   "id": "e6877809-c0b8-414a-92ef-d1876cf5a66e",
   "metadata": {},
   "outputs": [],
   "source": []
  }
 ],
 "metadata": {
  "kernelspec": {
   "display_name": "Python 3 (ipykernel)",
   "language": "python",
   "name": "python3"
  },
  "language_info": {
   "codemirror_mode": {
    "name": "ipython",
    "version": 3
   },
   "file_extension": ".py",
   "mimetype": "text/x-python",
   "name": "python",
   "nbconvert_exporter": "python",
   "pygments_lexer": "ipython3",
   "version": "3.8.10"
  }
 },
 "nbformat": 4,
 "nbformat_minor": 5
}
