{
 "cells": [
  {
   "cell_type": "markdown",
   "id": "a6dfa819-19b8-45be-9aea-9c00659cae84",
   "metadata": {},
   "source": [
    "# Materials science and Bragg's law by animation and illutration"
   ]
  },
  {
   "cell_type": "markdown",
   "id": "95011b46-2245-40a6-be78-faeac2df97be",
   "metadata": {},
   "source": [
    "## Learning outcomes    \n",
    "- Be able to discuss and relate the different components that make up Bragg's diffraction law and how they impact an XRD-dataset. \n",
    "- Be able to sketch a geometric interpretation of Bragg's law\n",
    "- Explain and recall simple terms related to the crystal structure of a material.\n",
    "- (Noe rundt k-space og hkl-plan). "
   ]
  },
  {
   "cell_type": "markdown",
   "id": "94b6f6f9-ee56-4c3c-aba3-14c57fc6dd78",
   "metadata": {},
   "source": [
    "## Introduction\n",
    "In this \"book\" we will explore some central concepts within the field of materials science, and as well attempt to apply properties of mathematics such as vectors and trognometry to derive complex physical models and laws. Notably we will make use of animation to illusrtrate the concept of wave superposition and finaly Bragg's law of diffraction, which is a specific example of the Laue condition.   "
   ]
  },
  {
   "cell_type": "markdown",
   "id": "6c42bdc3-865c-40e8-a2ef-4abbdb8e041f",
   "metadata": {
    "tags": []
   },
   "source": [
    "## Crystal structure\n",
    "To begin with, lets take a look at two terms that pretty much lay the foundation of which most of modern materials science is built on, namley the crystal cell (or supercell) and its corresponding unit cell. (Shown in figure 1)  \n",
    "\n",
    "![Unit cell](Images/unitCell.png)\n",
    "\n",
    "Figure 1: An illustration of a typical unit cell of a periodic supercell\n",
    "\n",
    "This representation of material structures treats atomic ordering as an infinite periodic arrays of discrete points, and is known as a Bravais lattice. In 3D, there are 14 induvidual classes, one of which is the \"primitive cell\", shown above. One common feature of these cells is that they are made up of three angles $\\alpha, \\beta, \\gamma$, and three unit axes $a, b, c$. In the simplest case, the cubic unit cell, a = b = c, and $\\alpha = \\beta = \\gamma = 90^\\circ$. But this is not nescaccarly the case for other structures, such as a hexagonal or triclinic bravais lattices (See additional reading). \n",
    "\n",
    "One of the key concepts of the Bravais lattice are the lattice points. A lattice point can in theory represent an atom, or a molecule, but given the symmetry of the supercell, an induvidual lattice will only equal a fraction of said atom/molecule becaouse the same point is shared between neigboring cells (See figure 1 and study the amount of cells that share one point). For example, a corner point in a bravais lattice is shared by eight cells, therefore a corner latice point is equal to 1/8 atom/molecule.\n",
    "\n",
    "Another neat feature of a Bravais lattice is that every point in the lattice can be described by the sum of the three unit axes a,b,c and three integers. If we let the vector $\\vec{R}$ describe the vector from the unit cell origio, to a given point, then each lattice point can be described by \n",
    "\n",
    "$$\n",
    "\\vec{R} = u\\vec{a} + v\\vec{b} + w\\vec{c} \n",
    "$$ , where u, v, and w are integers. \n",
    "\n",
    "For instance, some of the lattice points in the example structure in figure 1 is located at [1a,0b,0c], [0a,1b,0c] and [0a,0b,1c].\n",
    "\n",
    "> Descibe the remaining lattice points in figure 1b in the similar manner.\n",
    ">\n",
    "> Look at figure 2, can you describe the points at the midway point in this cell in an eqvivalent manner? \n"
   ]
  },
  {
   "cell_type": "markdown",
   "id": "c4b5f9f9-101b-474f-9e61-293cc1d2a132",
   "metadata": {},
   "source": [
    "![FCC-lattice](Images/fcc_lattice.jpeg)\n",
    "\n",
    "Figure 2: A very common crystal structure called an FCC lattice, this lattice is the prefereed arrangement of many materials, examples are NaCl, Dimond and Aluminum. "
   ]
  },
  {
   "cell_type": "markdown",
   "id": "6b665932-5d88-406b-bc1b-92779def2508",
   "metadata": {},
   "source": [
    "> Kanksje sett inn et bilde av krystallplan med veldig kort forklaring?"
   ]
  },
  {
   "cell_type": "markdown",
   "id": "ca91e7c7-b87b-4cab-9449-9c037657940d",
   "metadata": {},
   "source": [
    "## Superposition of waves\n",
    "Before moving on, lets take a quik look at some important properties of wavetheory.Waves being a linear system, satisfy the superposition principle. In short, when two inital waves traverse the same space, their addidative wave is formed by the the sum of the intial waves induvidual amplitudes. This can result in whats known as constructive or destructive interference. \n",
    "\n",
    "> Try adjusting the variables in the animation bellow and see if you can work out the foundations of destructive and constructive interference. \n",
    "    \n",
    "    [Insert animation of superposition]"
   ]
  },
  {
   "cell_type": "markdown",
   "id": "d1c7316f-35bf-4196-be67-8aa3e91db659",
   "metadata": {
    "tags": []
   },
   "source": [
    "## Bragg's law \n",
    "\n",
    "## What is Bragg's law?\n",
    "Bragg's law is a widley applied law in physics that is used to examine various crystallographic properties. Some of the various instrumentations and appliences of Bragg's law will be discussed briefly at the end. However the instrumentation, the central working method is Bragg's law. When two in-phase waves strike crystallographic planes seperated by a distance d, the Bragg condition states the relation between the incident and outgoing waves for the scattered rays to remain in-phase, thus creating constructive interference. The defintion is:\n",
    "\n",
    "$$\n",
    "n \\lambda = 2dsin(\\theta)\n",
    "$$\n",
    "\n",
    "Thus, per defition the product of the waves incident angle $\\theta$ on the crystal planes and the distance between planes, must equal an integer times the incident wavelength $\\lambda$.\n",
    "But what does this mean? \n",
    "\n",
    "> Play around with the animation below and try and figure out how the value of d and \\theta are related\n",
    "> to eachother by studying the outgoing waves. \n",
    "\n",
    "The animation below is an attempt to illustrate the geometric relation that makes up the Bragg defition. You should try increasing/decreasing the incident angle by pressing the arrow keys, and also alter the plane seperation d through the slider. And it should be apperant when the condition yields constructive and destructive interference. \n",
    "    [Insert animation here!]\n",
    "\n",
    "## Bragg's law from a geometric perspective. \n",
    "\n",
    "![Bragg's law](Images/bragg-1.jpg)\n",
    "\n",
    "Figure 3: A schematic view of the geometric values in a Bragg diffraction example\n",
    "\n",
    "With the aid of figure 3, it can be shown that Bragg's law come to fruition simply from trigonometric considerations. Remembering the the phase-relation for constructive vs destructive interference, ie $\\pi /2$ promotes completly destructive interference, but $n\\cdot \\pi$ yileds constructive interference. Also remembering the goal of Bragg's law, namely that the scattering of two in-phase rays produce also two in-phase outgoing waves. If we then consider the incident and scattered ray to note the path of one wave , we find that the Bragg's law is satisfied when the path of one wave is an integer times the wavelength of the first wave.  \n",
    "\n"
   ]
  },
  {
   "cell_type": "markdown",
   "id": "48391083-54b2-4c57-be34-5900abdcc1b9",
   "metadata": {},
   "source": [
    "We can see that the distance GH is equal to $d*sin(\\theta)$, and by geometrical considerations also GF. So that in order for wave two to be in phase with wave 1 after scattering, the distance F-G-H must exactly equal an integer times the wavelength."
   ]
  },
  {
   "cell_type": "markdown",
   "id": "a0062283-4d74-432e-b66c-32fd6ccab69c",
   "metadata": {},
   "source": [
    "## Application\n",
    "- A brief discription of XRD instrumentation and working method, how to interpret the results. Same for SAD!.\n",
    "![XRD](Images/xrd.png) \n",
    "\n",
    "An XRD spectrum of Si. \n",
    "\n",
    "![SAD](Images/SAD.jpg)\n",
    "\n",
    "A Selected Area Diffraction (SAD) image. "
   ]
  },
  {
   "cell_type": "code",
   "execution_count": null,
   "id": "1527b7d0-a268-40ca-a438-87c23d321f3d",
   "metadata": {},
   "outputs": [],
   "source": []
  }
 ],
 "metadata": {
  "kernelspec": {
   "display_name": "Python 3 (ipykernel)",
   "language": "python",
   "name": "python3"
  },
  "language_info": {
   "codemirror_mode": {
    "name": "ipython",
    "version": 3
   },
   "file_extension": ".py",
   "mimetype": "text/x-python",
   "name": "python",
   "nbconvert_exporter": "python",
   "pygments_lexer": "ipython3",
   "version": "3.8.10"
  }
 },
 "nbformat": 4,
 "nbformat_minor": 5
}
